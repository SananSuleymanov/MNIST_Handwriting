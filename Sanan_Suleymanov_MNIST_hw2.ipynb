{
  "nbformat": 4,
  "nbformat_minor": 0,
  "metadata": {
    "colab": {
      "name": "Sanan_Suleymanov_MNIST_hw2.ipynb",
      "provenance": [],
      "mount_file_id": "101JIUgqFvd3VUjHpltNkNy0FhdlvU-cU",
      "authorship_tag": "ABX9TyO8a87VKkWQvvSzTBqx25Nh",
      "include_colab_link": true
    },
    "kernelspec": {
      "name": "python3",
      "display_name": "Python 3"
    },
    "language_info": {
      "name": "python"
    }
  },
  "cells": [
    {
      "cell_type": "markdown",
      "metadata": {
        "id": "view-in-github",
        "colab_type": "text"
      },
      "source": [
        "<a href=\"https://colab.research.google.com/github/SananSuleymanov/MNIST_Handwriting/blob/main/Sanan_Suleymanov_MNIST_hw2.ipynb\" target=\"_parent\"><img src=\"https://colab.research.google.com/assets/colab-badge.svg\" alt=\"Open In Colab\"/></a>"
      ]
    },
    {
      "cell_type": "code",
      "metadata": {
        "colab": {
          "base_uri": "https://localhost:8080/"
        },
        "id": "bsYzzdqtJ2ST",
        "outputId": "c6a8b22f-db20-4305-ad74-ecf3a23ac51c"
      },
      "source": [
        "from keras.applications.mobilenet_v2 import MobileNetV2\n",
        "from keras.applications.mobilenet_v2 import decode_predictions\n",
        "from keras.applications.mobilenet_v2 import preprocess_input\n",
        "from keras.models import Model\n",
        "import time\n",
        "import tensorflow as tf\n",
        "from os import listdir\n",
        "import matplotlib.pyplot as plt\n",
        "import numpy as np\n",
        "from PIL import Image\n",
        "import time\n",
        "import cv2\n",
        "import matplotlib.pyplot as plt\n",
        "#from google.colab import files\n",
        "\n",
        "\n",
        "# Export saved model\n",
        "export_dir = 'mymodel'\n",
        "\n",
        "\n",
        "# Load and prepare MNIST dataset\n",
        "mnist = tf.keras.datasets.mnist\n",
        "\n",
        "# Normalize dataset\n",
        "(x_train1, y_train) , (x_test1, y_test) = mnist.load_data()\n",
        "\n",
        "x_train = x_train1 / 255.0\n",
        "x_test = x_test1 / 255.0\n",
        "\n",
        "# Build sequential model by stacking layers, choose optimizer and loss function\n",
        "model = tf.keras.models.Sequential()\n",
        "model.add(tf.keras.layers.Flatten(input_shape=(28, 28)))\n",
        "model.add(tf.keras.layers.Dense(70, activation='relu'))\n",
        "model.add(tf.keras.layers.Dense(100, activation='relu'))\n",
        "model.add(tf.keras.layers.Dense(60, activation='relu'))\n",
        "model.add(tf.keras.layers.Dropout(0.2))\n",
        "model.add(tf.keras.layers.Dense(10))\n",
        "model.summary()\n",
        "\n",
        "predictions = model(x_train[:1]).numpy()\n",
        "predictions_prob = tf.nn.softmax(predictions).numpy()\n",
        "print ('Probabilities for each class: ' + str(predictions_prob))\n",
        "\n",
        "# Take a vector of logits and True index and return scalar loss for each example\n",
        "# This loss is equal to the negative log probability of the true class: It is zero if the model is sure of the correct class.\n",
        "loss_fn = tf.keras.losses.SparseCategoricalCrossentropy(from_logits=True)\n",
        "loss_initial = loss_fn(y_train[:1], predictions).numpy()\n",
        "print('Untrained model inital loss: ' + str(loss_initial))\n",
        "\n",
        "# Train model\n",
        "model.compile(optimizer='adam', loss=loss_fn, metrics=['accuracy'])\n",
        "\n",
        "# Adjust model parameters to minimize the loss and train it\n",
        "model.fit(x_train, y_train, epochs=20)\n",
        "\n",
        "# Evaluate model performance\n",
        "\n",
        "model.evaluate(x_test, y_test, verbose=2)\n",
        "#model.save(\"mnist_keras.h5\")\n",
        "#files.download(\"mnist_keras.h5\")\n",
        "\n",
        "\n"
      ],
      "execution_count": 2,
      "outputs": [
        {
          "output_type": "stream",
          "name": "stdout",
          "text": [
            "Model: \"sequential_1\"\n",
            "_________________________________________________________________\n",
            " Layer (type)                Output Shape              Param #   \n",
            "=================================================================\n",
            " flatten_1 (Flatten)         (None, 784)               0         \n",
            "                                                                 \n",
            " dense_4 (Dense)             (None, 70)                54950     \n",
            "                                                                 \n",
            " dense_5 (Dense)             (None, 100)               7100      \n",
            "                                                                 \n",
            " dense_6 (Dense)             (None, 60)                6060      \n",
            "                                                                 \n",
            " dropout_1 (Dropout)         (None, 60)                0         \n",
            "                                                                 \n",
            " dense_7 (Dense)             (None, 10)                610       \n",
            "                                                                 \n",
            "=================================================================\n",
            "Total params: 68,720\n",
            "Trainable params: 68,720\n",
            "Non-trainable params: 0\n",
            "_________________________________________________________________\n",
            "Probabilities for each class: [[0.09283282 0.07663745 0.10198117 0.11097066 0.10612822 0.09392064\n",
            "  0.10808406 0.10209717 0.11955711 0.08779071]]\n",
            "Untrained model inital loss: 2.3653052\n",
            "Epoch 1/20\n",
            "1875/1875 [==============================] - 5s 2ms/step - loss: 0.2994 - accuracy: 0.9107\n",
            "Epoch 2/20\n",
            "1875/1875 [==============================] - 4s 2ms/step - loss: 0.1320 - accuracy: 0.9617\n",
            "Epoch 3/20\n",
            "1875/1875 [==============================] - 4s 2ms/step - loss: 0.0964 - accuracy: 0.9707\n",
            "Epoch 4/20\n",
            "1875/1875 [==============================] - 4s 2ms/step - loss: 0.0779 - accuracy: 0.9761\n",
            "Epoch 5/20\n",
            "1875/1875 [==============================] - 4s 2ms/step - loss: 0.0654 - accuracy: 0.9798\n",
            "Epoch 6/20\n",
            "1875/1875 [==============================] - 4s 2ms/step - loss: 0.0561 - accuracy: 0.9829\n",
            "Epoch 7/20\n",
            "1875/1875 [==============================] - 4s 2ms/step - loss: 0.0494 - accuracy: 0.9845\n",
            "Epoch 8/20\n",
            "1875/1875 [==============================] - 4s 2ms/step - loss: 0.0414 - accuracy: 0.9868\n",
            "Epoch 9/20\n",
            "1875/1875 [==============================] - 4s 2ms/step - loss: 0.0376 - accuracy: 0.9880\n",
            "Epoch 10/20\n",
            "1875/1875 [==============================] - 4s 2ms/step - loss: 0.0368 - accuracy: 0.9885\n",
            "Epoch 11/20\n",
            "1875/1875 [==============================] - 4s 2ms/step - loss: 0.0315 - accuracy: 0.9901\n",
            "Epoch 12/20\n",
            "1875/1875 [==============================] - 4s 2ms/step - loss: 0.0296 - accuracy: 0.9903\n",
            "Epoch 13/20\n",
            "1875/1875 [==============================] - 4s 2ms/step - loss: 0.0269 - accuracy: 0.9915\n",
            "Epoch 14/20\n",
            "1875/1875 [==============================] - 4s 2ms/step - loss: 0.0255 - accuracy: 0.9923\n",
            "Epoch 15/20\n",
            "1875/1875 [==============================] - 4s 2ms/step - loss: 0.0248 - accuracy: 0.9923\n",
            "Epoch 16/20\n",
            "1875/1875 [==============================] - 4s 2ms/step - loss: 0.0194 - accuracy: 0.9935\n",
            "Epoch 17/20\n",
            "1875/1875 [==============================] - 4s 2ms/step - loss: 0.0223 - accuracy: 0.9932\n",
            "Epoch 18/20\n",
            "1875/1875 [==============================] - 4s 2ms/step - loss: 0.0184 - accuracy: 0.9942\n",
            "Epoch 19/20\n",
            "1875/1875 [==============================] - 4s 2ms/step - loss: 0.0218 - accuracy: 0.9934\n",
            "Epoch 20/20\n",
            "1875/1875 [==============================] - 4s 2ms/step - loss: 0.0190 - accuracy: 0.9937\n",
            "313/313 - 0s - loss: 0.1312 - accuracy: 0.9769 - 486ms/epoch - 2ms/step\n"
          ]
        },
        {
          "output_type": "execute_result",
          "data": {
            "text/plain": [
              "[0.13120229542255402, 0.9768999814987183]"
            ]
          },
          "metadata": {},
          "execution_count": 2
        }
      ]
    },
    {
      "cell_type": "code",
      "metadata": {
        "colab": {
          "base_uri": "https://localhost:8080/"
        },
        "id": "vFdv8mLB1rnG",
        "outputId": "1b3ca1b6-2b54-4ed8-eeda-6072cd8d9d58"
      },
      "source": [
        "import tensorflow as tf\n",
        "\n",
        "model = tf.keras.models.load_model('/content/mnist_keras.h5')\n",
        "converter = tf.lite.TFLiteConverter.from_keras_model(model)\n",
        "tflite_model = converter.convert()\n",
        "open(\"converted_model.tflite\", \"wb\").write(tflite_model)"
      ],
      "execution_count": null,
      "outputs": [
        {
          "output_type": "stream",
          "name": "stdout",
          "text": [
            "INFO:tensorflow:Assets written to: /tmp/tmpoqbqjoe4/assets\n"
          ]
        },
        {
          "output_type": "stream",
          "name": "stderr",
          "text": [
            "INFO:tensorflow:Assets written to: /tmp/tmpoqbqjoe4/assets\n",
            "WARNING:absl:Buffer deduplication procedure will be skipped when flatbuffer library is not properly loaded\n"
          ]
        },
        {
          "output_type": "execute_result",
          "data": {
            "text/plain": [
              "277528"
            ]
          },
          "metadata": {},
          "execution_count": 8
        }
      ]
    },
    {
      "cell_type": "code",
      "metadata": {
        "colab": {
          "base_uri": "https://localhost:8080/",
          "height": 372
        },
        "id": "v35lyBVQRmK2",
        "outputId": "7c0e77e7-cedd-4186-d771-21c3f63b4f42"
      },
      "source": [
        "loaded_images = list()\n",
        "for filename in listdir('/content/drive/MyDrive/Colab Notebooks/mnist own'):\n",
        "  im = plt.imread('/content/drive/MyDrive/Colab Notebooks/mnist own/'+filename)\n",
        "  loaded_images.append(im)\n",
        "\n",
        "\n",
        "x_own = np.array(loaded_images)\n",
        "\n",
        "probability_model = tf.keras.Sequential([model, \n",
        "                                         tf.keras.layers.Softmax()])\n",
        "time1_k = time.time()\n",
        "predictions = probability_model.predict([x_own])\n",
        "time2_k= time.time()\n",
        "print((time2_k-time1_k)/10)\n",
        "print(predictions.shape)\n",
        "print(np.argmax(predictions[0]))\n",
        "plt.imshow(x_own[0])"
      ],
      "execution_count": 7,
      "outputs": [
        {
          "output_type": "stream",
          "name": "stdout",
          "text": [
            "WARNING:tensorflow:5 out of the last 5 calls to <function Model.make_predict_function.<locals>.predict_function at 0x7fa39dc08f80> triggered tf.function retracing. Tracing is expensive and the excessive number of tracings could be due to (1) creating @tf.function repeatedly in a loop, (2) passing tensors with different shapes, (3) passing Python objects instead of tensors. For (1), please define your @tf.function outside of the loop. For (2), @tf.function has experimental_relax_shapes=True option that relaxes argument shapes that can avoid unnecessary retracing. For (3), please refer to https://www.tensorflow.org/guide/function#controlling_retracing and https://www.tensorflow.org/api_docs/python/tf/function for  more details.\n",
            "0.009521698951721192\n",
            "(10, 10)\n",
            "0\n"
          ]
        },
        {
          "output_type": "execute_result",
          "data": {
            "text/plain": [
              "<matplotlib.image.AxesImage at 0x7fa398a6eb50>"
            ]
          },
          "metadata": {},
          "execution_count": 7
        },
        {
          "output_type": "display_data",
          "data": {
            "image/png": "[encoded data removed]",
            "text/plain": [
              "<Figure size 432x288 with 1 Axes>"
            ]
          },
          "metadata": {
            "needs_background": "light"
          }
        }
      ]
    },
    {
      "cell_type": "code",
      "metadata": {
        "colab": {
          "base_uri": "https://localhost:8080/"
        },
        "id": "zWA16zinXTsC",
        "outputId": "336cf9ff-1af8-4133-845b-3fe84654d0a3"
      },
      "source": [
        "def rgb2gray():\n",
        "  for filename in listdir('/content/sample_data/mnist_org'):\n",
        "      im = cv2.imread('/content/sample_data/mnist_org/'+filename, cv2.IMREAD_GRAYSCALE)\n",
        "      im_gray =cv2.imwrite('/content/sample_data/mnist_new/'+filename, im)\n",
        "  \n",
        "  return im_gray\n",
        "\n",
        "new_rgb = rgb2gray()\n"
      ],
      "execution_count": null,
      "outputs": [
        {
          "output_type": "stream",
          "name": "stdout",
          "text": [
            "(28, 28)\n",
            "(28, 28)\n",
            "(28, 28)\n",
            "(28, 28)\n",
            "(28, 28)\n",
            "(28, 28)\n",
            "(28, 28)\n",
            "(28, 28)\n",
            "(28, 28)\n",
            "(28, 28)\n",
            "(28, 28)\n"
          ]
        }
      ]
    },
    {
      "cell_type": "code",
      "metadata": {
        "colab": {
          "base_uri": "https://localhost:8080/",
          "height": 304
        },
        "id": "YtgI-SSvqiU1",
        "outputId": "ed7cd621-e6fa-449c-d137-442bd8d7c834"
      },
      "source": [
        "#convertion of image from single layer to RGB\n",
        "def gray2rgb(image):\n",
        "  new_im = list()\n",
        "  for i in range (len(image)):\n",
        "    rgb = cv2.cvtColor(image[i], cv2.COLOR_GRAY2RGB)\n",
        "    res_im = cv2.resize(rgb, (224, 224), interpolation = cv2.INTER_AREA)\n",
        "    \n",
        "    new_im.append(res_im)\n",
        "\n",
        "  \n",
        "  rgb_im = np.array(new_im)\n",
        "  \n",
        "  return rgb_im\n",
        "\n",
        "new_rgb = gray2rgb(x_own)\n",
        "\n",
        "print(new_rgb[0].shape)\n",
        "plt.imshow(new_rgb[0])"
      ],
      "execution_count": 8,
      "outputs": [
        {
          "output_type": "stream",
          "name": "stdout",
          "text": [
            "(224, 224, 3)\n"
          ]
        },
        {
          "output_type": "execute_result",
          "data": {
            "text/plain": [
              "<matplotlib.image.AxesImage at 0x7fa39dc1a590>"
            ]
          },
          "metadata": {},
          "execution_count": 8
        },
        {
          "output_type": "display_data",
          "data": {
            "image/png": "[encoded data removed]",
            "text/plain": [
              "<Figure size 432x288 with 1 Axes>"
            ]
          },
          "metadata": {
            "needs_background": "light"
          }
        }
      ]
    },
    {
      "cell_type": "code",
      "metadata": {
        "colab": {
          "base_uri": "https://localhost:8080/"
        },
        "id": "JkcpBOGg_DLy",
        "outputId": "90935722-df99-4b41-a809-71d1f605b13e"
      },
      "source": [
        "\n",
        "data = preprocess_input(new_rgb)\n",
        "base_model = MobileNetV2(\n",
        "    \n",
        "        weights='imagenet',\n",
        "        input_shape = (224, 224, 3))\n",
        "\n",
        "\n",
        "time1_M = time.time()\n",
        "predictions = base_model.predict(data)\n",
        "time2_M=time.time()\n",
        "\n",
        "print(\"Inference average speed of MobileNetV2: \"+ str((time2_M-time1_M)/10))\n",
        "\n"
      ],
      "execution_count": 9,
      "outputs": [
        {
          "output_type": "stream",
          "name": "stdout",
          "text": [
            "Downloading data from https://storage.googleapis.com/tensorflow/keras-applications/mobilenet_v2/mobilenet_v2_weights_tf_dim_ordering_tf_kernels_1.0_224.h5\n",
            "14540800/14536120 [==============================] - 0s 0us/step\n",
            "14548992/14536120 [==============================] - 0s 0us/step\n",
            "WARNING:tensorflow:6 out of the last 6 calls to <function Model.make_predict_function.<locals>.predict_function at 0x7fa39e3db950> triggered tf.function retracing. Tracing is expensive and the excessive number of tracings could be due to (1) creating @tf.function repeatedly in a loop, (2) passing tensors with different shapes, (3) passing Python objects instead of tensors. For (1), please define your @tf.function outside of the loop. For (2), @tf.function has experimental_relax_shapes=True option that relaxes argument shapes that can avoid unnecessary retracing. For (3), please refer to https://www.tensorflow.org/guide/function#controlling_retracing and https://www.tensorflow.org/api_docs/python/tf/function for  more details.\n",
            "Inference average speed of MobileNetV2: 0.09537432193756104\n"
          ]
        }
      ]
    },
    {
      "cell_type": "code",
      "metadata": {
        "colab": {
          "base_uri": "https://localhost:8080/"
        },
        "id": "smhpFW23qT9M",
        "outputId": "2cc622df-8cab-4cd8-82fd-e60d1cc13514"
      },
      "source": [
        "model = tf.keras.applications.resnet50.ResNet50(\n",
        "    \n",
        "    weights='imagenet', \n",
        "    input_shape=(224, 224, 3),\n",
        "    )\n",
        "time1_R = time.time()\n",
        "predictions = model.predict(data)\n",
        "time2_R = time.time()\n",
        "\n",
        "print(\"Inference average speed of ResNet50: \"+str((time2_R - time1_R)/10))"
      ],
      "execution_count": 10,
      "outputs": [
        {
          "output_type": "stream",
          "name": "stdout",
          "text": [
            "Downloading data from https://storage.googleapis.com/tensorflow/keras-applications/resnet/resnet50_weights_tf_dim_ordering_tf_kernels.h5\n",
            "102973440/102967424 [==============================] - 1s 0us/step\n",
            "102981632/102967424 [==============================] - 1s 0us/step\n",
            "Inference average speed of ResNet50: 0.22385408878326415\n"
          ]
        }
      ]
    }
  ]
}